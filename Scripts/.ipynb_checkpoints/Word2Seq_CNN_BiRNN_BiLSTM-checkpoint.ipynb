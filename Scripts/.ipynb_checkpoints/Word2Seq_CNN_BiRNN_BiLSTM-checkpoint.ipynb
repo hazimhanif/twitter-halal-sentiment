{
 "cells": [
  {
   "cell_type": "markdown",
   "metadata": {},
   "source": [
    "# Word2Seq CNN + Bi-directional RNN + Bi-directional LSTM Network"
   ]
  },
  {
   "cell_type": "markdown",
   "metadata": {},
   "source": [
    "Importing all the required libraries along with some instance variables initialization.\n",
    "\n",
    "It is important to note that **INPUT_SIZE** plays a big role in the model convergence.  \n",
    "The value should be the average number of words per review.  \n",
    "This shall yield the most optimum model state for faster convergence across the network.\n",
    "\n",
    "Tested values for *INPUT_SIZE* :\n",
    " * 30 (2 mins per epoch) = 87%\n",
    " * 50 (2+ mins per epoch) = 89.41%\n",
    " * 100 (3+ mins per epoch ) = 92.42%\n",
    " * 300 (n mins per epoch) = 67.85%\n",
    "\n",
    "**EPOCHS** is set to `10` only to select the best model with the best hyper-parameters configuration for the fastest network convergence.\n",
    "\n",
    "Experimented with **Hinge** loss to further penalizes the predictions when they are incorrect and also when they are not confident. The penalization rate is lower as the prediction probability is more accurate. The implementation of this loss function is to minimize overfitting by penalizing.  \n",
    "However, the loss in accuracy are very large. The resultant accuracy was around (64%) due to the penalizing impact of the Hinge loss function.  Due to the high percentage loss in accuracy, the **Categorical Crossentropy** is used as usual.  The confidence of the prediction will be based on the collective voting of all the model's outcome.  "
   ]
  },
  {
   "cell_type": "code",
   "execution_count": 1,
   "metadata": {},
   "outputs": [
    {
     "name": "stderr",
     "output_type": "stream",
     "text": [
      "Using TensorFlow backend.\n"
     ]
    }
   ],
   "source": [
    "import pandas as pd\n",
    "import numpy as np\n",
    "import pickle\n",
    "import matplotlib.pyplot as plt\n",
    "import tensorflow as tf\n",
    "from sklearn.model_selection import train_test_split\n",
    "from keras.backend.tensorflow_backend import set_session\n",
    "from tensorflow.python.keras.models import Sequential, Model, load_model\n",
    "from tensorflow.python.keras.layers import Dense, Embedding, Dropout, Flatten, Input\n",
    "from tensorflow.python.keras.layers import LSTM, Bidirectional, SimpleRNN, Conv1D, MaxPool1D\n",
    "from keras.engine.topology import Layer, InputSpec\n",
    "from tensorflow.python.keras import initializers, regularizers, constraints\n",
    "from tensorflow.python.keras import optimizers\n",
    "from tensorflow.python.keras.preprocessing import text as keras_text, sequence as keras_seq\n",
    "from tensorflow.python.keras.utils import to_categorical\n",
    "from tensorflow.python.keras.callbacks import TensorBoard, ModelCheckpoint\n",
    "from sklearn.metrics import confusion_matrix,accuracy_score,recall_score,precision_score,f1_score\n",
    "from sklearn.utils import shuffle\n",
    "from tensorflow import set_random_seed\n",
    "import gc\n",
    "import os\n",
    "\n",
    "#myrand=np.random.randint(1, 99999 + 1)\n",
    "myrand=58584\n",
    "np.random.seed(myrand)\n",
    "set_random_seed(myrand)\n",
    "z=0\n",
    "\n",
    "EMBEDDING_SIZE=32\n",
    "WORDS_SIZE=8000\n",
    "INPUT_SIZE=100\n",
    "NUM_CLASSES=2\n",
    "EPOCHS=10\n",
    "\n",
    "# To allow dynamic GPU memory allowcation for model training\n",
    "config = tf.ConfigProto()\n",
    "config.gpu_options.allow_growth = True  \n",
    "config.log_device_placement = True\n",
    "\n",
    "sess = tf.Session(config=config)\n",
    "set_session(sess)"
   ]
  },
  {
   "cell_type": "markdown",
   "metadata": {},
   "source": [
    "Importing all the data from:\n",
    " * eRezeki\n",
    " * IMDB\n",
    " * Amazon\n",
    " * Yelp\n"
   ]
  },
  {
   "cell_type": "code",
   "execution_count": 2,
   "metadata": {},
   "outputs": [],
   "source": [
    "mydata = pd.read_csv('../../../../../Master (Sentiment Analysis)/Paper/Paper 3/Datasets/eRezeki/eRezeki_(text_class)_unclean.csv',header=0,encoding='utf-8')\n",
    "mydata = mydata.loc[mydata['sentiment'] != \"neutral\"]\n",
    "mydata['sentiment'] = mydata['sentiment'].map({'negative': 0, 'positive': 1})\n",
    "\n",
    "mydata1 = pd.read_csv('../../../../../Master (Sentiment Analysis)/Paper/Paper 3/Datasets/IMDB/all_random.csv',header=0,encoding='utf-8')\n",
    "mydata = mydata.append(mydata1)\n",
    "mydata = shuffle(mydata)\n",
    "\n",
    "mydata1 = pd.read_csv('../../../../../Master (Sentiment Analysis)/Paper/Paper 3/Datasets/Amazon(sports_outdoors)/Amazon_UCSD.csv',header=0,encoding='utf-8')\n",
    "mydata1['feedback'] = mydata1['feedback'].astype(str)\n",
    "mydata = mydata.append(mydata1)\n",
    "mydata = shuffle(mydata)\n",
    "\n",
    "mydata1 = pd.read_csv('../../../../../Master (Sentiment Analysis)/Paper/Paper 3/Datasets/Yelp(zhang_paper)/yelp_zhang.csv',header=0,encoding='utf-8')\n",
    "mydata1['feedback'] = mydata1['feedback'].astype(str)\n",
    "mydata = mydata.append(mydata1)\n",
    "\n",
    "del(mydata1)\n",
    "gc.collect()\n",
    "\n",
    "mydata = shuffle(mydata)\n",
    "mydata = shuffle(mydata)\n",
    "mydata = shuffle(mydata)"
   ]
  },
  {
   "cell_type": "markdown",
   "metadata": {},
   "source": [
    "Spllitting the data into training (70%) and testing (30%) sets."
   ]
  },
  {
   "cell_type": "code",
   "execution_count": 3,
   "metadata": {},
   "outputs": [],
   "source": [
    "x_train, x_test, y_train, y_test = train_test_split(mydata.iloc[:,0], mydata.iloc[:,1],\n",
    "                                                    test_size=0.3, \n",
    "                                                    random_state=myrand, \n",
    "                                                    shuffle=True)\n",
    "old_y_test = y_test"
   ]
  },
  {
   "cell_type": "markdown",
   "metadata": {},
   "source": [
    "Load the Word2Seq feature set as the tokenizer"
   ]
  },
  {
   "cell_type": "code",
   "execution_count": 4,
   "metadata": {},
   "outputs": [],
   "source": [
    "fileobj = open('../../Features/Word2Seq.pickle', 'rb')\n",
    "tokenizer = pickle.load(fileobj)\n",
    "tokenizer.fit_on_texts(list(mydata['feedback']))\n",
    "tokenizer.num_words=WORDS_SIZE"
   ]
  },
  {
   "cell_type": "markdown",
   "metadata": {},
   "source": [
    "Create sequence file from the tokkenizer for training and testing sets."
   ]
  },
  {
   "cell_type": "code",
   "execution_count": 5,
   "metadata": {},
   "outputs": [],
   "source": [
    "## Tokkenizing train data and create matrix\n",
    "list_tokenized_train = tokenizer.texts_to_sequences(x_train)\n",
    "x_train = keras_seq.pad_sequences(list_tokenized_train, \n",
    "                                  maxlen=INPUT_SIZE,\n",
    "                                  padding='post')\n",
    "x_train = x_train.astype(np.int64)\n",
    "\n",
    "## Tokkenizing test data and create matrix\n",
    "list_tokenized_test = tokenizer.texts_to_sequences(x_test)\n",
    "x_test = keras_seq.pad_sequences(list_tokenized_test, \n",
    "                                 maxlen=INPUT_SIZE,\n",
    "                                 padding='post')\n",
    "x_test = x_test.astype(np.int64)"
   ]
  },
  {
   "cell_type": "markdown",
   "metadata": {},
   "source": [
    "Perform One Hot Encoding (OHE) to the labes of training and testing sets."
   ]
  },
  {
   "cell_type": "code",
   "execution_count": 6,
   "metadata": {},
   "outputs": [],
   "source": [
    "y_train = to_categorical(y_train, num_classes=NUM_CLASSES).astype(np.int64)\n",
    "y_test = to_categorical(y_test, num_classes=NUM_CLASSES).astype(np.int64)"
   ]
  },
  {
   "cell_type": "markdown",
   "metadata": {},
   "source": [
    "Define and build the **Word2Seq CNN + Bi-RNN + Bi-LSTM** model"
   ]
  },
  {
   "cell_type": "code",
   "execution_count": 7,
   "metadata": {},
   "outputs": [
    {
     "name": "stdout",
     "output_type": "stream",
     "text": [
      "Word2Seq CNN + Bi-RNN + Bi-LSTM model built: \n",
      "_________________________________________________________________\n",
      "Layer (type)                 Output Shape              Param #   \n",
      "=================================================================\n",
      "embedding (Embedding)        (None, 100, 250)          2000000   \n",
      "_________________________________________________________________\n",
      "conv1d (Conv1D)              (None, 100, 250)          187750    \n",
      "_________________________________________________________________\n",
      "max_pooling1d (MaxPooling1D) (None, 33, 250)           0         \n",
      "_________________________________________________________________\n",
      "conv1d_1 (Conv1D)            (None, 33, 250)           125250    \n",
      "_________________________________________________________________\n",
      "max_pooling1d_1 (MaxPooling1 (None, 11, 250)           0         \n",
      "_________________________________________________________________\n",
      "bidirectional (Bidirectional (None, 11, 500)           1002000   \n",
      "_________________________________________________________________\n",
      "bidirectional_1 (Bidirection (None, 500)               375500    \n",
      "_________________________________________________________________\n",
      "flatten (Flatten)            (None, 500)               0         \n",
      "_________________________________________________________________\n",
      "dense (Dense)                (None, 250)               125250    \n",
      "_________________________________________________________________\n",
      "dense_1 (Dense)              (None, 2)                 502       \n",
      "=================================================================\n",
      "Total params: 3,816,252\n",
      "Trainable params: 3,816,252\n",
      "Non-trainable params: 0\n",
      "_________________________________________________________________\n"
     ]
    }
   ],
   "source": [
    "model = Sequential(name='Word2Seq CNN + Bi-RNN + Bi-LSTM')\n",
    "\n",
    "model.add(Embedding(input_dim =WORDS_SIZE,\n",
    "                    output_dim=250,\n",
    "                    input_length=INPUT_SIZE\n",
    "                    ))\n",
    "model.add(Conv1D(filters=250, kernel_size=3, padding='same', activation='relu'))\n",
    "model.add(MaxPool1D(pool_size=3))\n",
    "model.add(Conv1D(filters=250, kernel_size=2, padding='same', activation='relu'))\n",
    "model.add(MaxPool1D(pool_size=3))\n",
    "model.add(Bidirectional(LSTM(250,return_sequences=True,  activation='relu')))\n",
    "model.add(Bidirectional(SimpleRNN(250)))\n",
    "model.add(Flatten())\n",
    "model.add(Dense(250, activation='relu'))\n",
    "model.add(Dense(2, activation='softmax'))\n",
    "\n",
    "## Define multiple optional optimizers\n",
    "sgd = optimizers.SGD(lr=0.01, decay=1e-6, momentum=0.9, nesterov=True)\n",
    "adam = optimizers.Adam(lr=0.01, beta_1=0.9, beta_2=0.999, epsilon=1, decay=0.0, amsgrad=False)\n",
    "\n",
    "## Compile model with metrics\n",
    "model.compile(optimizer='adam', loss='categorical_crossentropy', metrics=['accuracy'])\n",
    "print(\"Word2Seq CNN + Bi-RNN + Bi-LSTM model built: \")\n",
    "model.summary()"
   ]
  },
  {
   "cell_type": "markdown",
   "metadata": {},
   "source": [
    "Create **TensorBoard callbacks** for:\n",
    " * Historical data\n",
    " * Training and evaluation gain/loss\n",
    " \n",
    "Also, create the **best-model callback** to save the **best** model every epoch."
   ]
  },
  {
   "cell_type": "code",
   "execution_count": 8,
   "metadata": {},
   "outputs": [],
   "source": [
    "## Create TensorBoard callbacks\n",
    "\n",
    "callbackdir= '/project/ten'\n",
    "\n",
    "tbCallback = TensorBoard(log_dir=callbackdir, \n",
    "                         histogram_freq=0, \n",
    "                         batch_size=128,\n",
    "                         write_graph=True, \n",
    "                         write_grads=True, \n",
    "                         write_images=True)\n",
    "\n",
    "tbCallback.set_model(model)\n",
    "\n",
    "mld = '/project/model/word2seq_cnn_birnn_bilstm.hdf5_%s'%(z)\n",
    "\n",
    "## Create best model callback\n",
    "mcp = ModelCheckpoint(filepath=mld, monitor=\"val_acc\",\n",
    "                      save_best_only=True, mode='max', period=1, verbose=1)"
   ]
  },
  {
   "cell_type": "markdown",
   "metadata": {},
   "source": [
    "**Train** the model"
   ]
  },
  {
   "cell_type": "code",
   "execution_count": 9,
   "metadata": {},
   "outputs": [
    {
     "name": "stdout",
     "output_type": "stream",
     "text": [
      "Training the Word2Seq CNN + Bi-RNN + Bi-LSTM model\n"
     ]
    },
    {
     "name": "stderr",
     "output_type": "stream",
     "text": [
      "/usr/local/lib/python3.5/dist-packages/tensorflow/python/ops/gradients_impl.py:108: UserWarning: Converting sparse IndexedSlices to a dense Tensor of unknown shape. This may consume a large amount of memory.\n",
      "  \"Converting sparse IndexedSlices to a dense Tensor of unknown shape. \"\n"
     ]
    },
    {
     "name": "stdout",
     "output_type": "stream",
     "text": [
      "Train on 663700 samples, validate on 284443 samples\n",
      "Epoch 1/10\n",
      " - 214s - loss: 0.2757 - acc: 0.8787 - val_loss: 0.2215 - val_acc: 0.9094\n",
      "\n",
      "Epoch 00001: val_acc improved from -inf to 0.90935, saving model to /project/model/word2seq_cnn_birnn_bilstm.hdf5_0\n",
      "Epoch 2/10\n",
      " - 217s - loss: 0.2028 - acc: 0.9189 - val_loss: 0.1991 - val_acc: 0.9198\n",
      "\n",
      "Epoch 00002: val_acc improved from 0.90935 to 0.91979, saving model to /project/model/word2seq_cnn_birnn_bilstm.hdf5_0\n",
      "Epoch 3/10\n",
      " - 220s - loss: 0.1848 - acc: 0.9268 - val_loss: 0.2000 - val_acc: 0.9153\n",
      "\n",
      "Epoch 00003: val_acc did not improve from 0.91979\n",
      "Epoch 4/10\n",
      " - 220s - loss: 0.1731 - acc: 0.9318 - val_loss: 0.1909 - val_acc: 0.9242\n",
      "\n",
      "Epoch 00004: val_acc improved from 0.91979 to 0.92425, saving model to /project/model/word2seq_cnn_birnn_bilstm.hdf5_0\n",
      "Epoch 5/10\n",
      " - 219s - loss: 0.1607 - acc: 0.9378 - val_loss: 0.1961 - val_acc: 0.9222\n",
      "\n",
      "Epoch 00005: val_acc did not improve from 0.92425\n",
      "Epoch 6/10\n",
      " - 220s - loss: 0.1504 - acc: 0.9422 - val_loss: 0.1961 - val_acc: 0.9239\n",
      "\n",
      "Epoch 00006: val_acc did not improve from 0.92425\n",
      "Epoch 7/10\n",
      " - 214s - loss: 0.1451 - acc: 0.9449 - val_loss: 0.2069 - val_acc: 0.9206\n",
      "\n",
      "Epoch 00007: val_acc did not improve from 0.92425\n",
      "Epoch 8/10\n",
      " - 215s - loss: 0.1339 - acc: 0.9497 - val_loss: 0.2055 - val_acc: 0.9226\n",
      "\n",
      "Epoch 00008: val_acc did not improve from 0.92425\n",
      "Epoch 9/10\n",
      " - 212s - loss: 0.1294 - acc: 0.9516 - val_loss: 0.2233 - val_acc: 0.9171\n",
      "\n",
      "Epoch 00009: val_acc did not improve from 0.92425\n",
      "Epoch 10/10\n",
      " - 206s - loss: 0.1401 - acc: 0.9470 - val_loss: 0.2101 - val_acc: 0.9210\n",
      "\n",
      "Epoch 00010: val_acc did not improve from 0.92425\n"
     ]
    }
   ],
   "source": [
    "print('Training the Word2Seq CNN + Bi-RNN + Bi-LSTM model')\n",
    "history = model.fit(x = x_train,\n",
    "          y = y_train,\n",
    "          validation_data = (x_test, y_test),\n",
    "          epochs = EPOCHS,\n",
    "          batch_size = 128,\n",
    "          verbose =2,\n",
    "          callbacks=[mcp,tbCallback])"
   ]
  },
  {
   "cell_type": "markdown",
   "metadata": {},
   "source": [
    "**Predict** the testing set using the best model from the run."
   ]
  },
  {
   "cell_type": "code",
   "execution_count": 10,
   "metadata": {},
   "outputs": [
    {
     "name": "stdout",
     "output_type": "stream",
     "text": [
      "\n",
      "Predicting the model\n",
      "284443/284443 [==============================] - 29s 102us/step\n",
      "loss: 0.1909012631295788\n",
      "acc: 0.9242484434491269\n"
     ]
    }
   ],
   "source": [
    "print('\\nPredicting the model')\n",
    "model = load_model(mld)\n",
    "results = model.evaluate(x_test, y_test, batch_size=128)\n",
    "for num in range(0,2):\n",
    "    print(model.metrics_names[num]+': '+str(results[num]))"
   ]
  },
  {
   "cell_type": "markdown",
   "metadata": {},
   "source": [
    "**Evaluate** the performance of the model on the testing set using:\n",
    " * Confusion matrix\n",
    " * Accuracy\n",
    " * Precision\n",
    " * Recall\n",
    " * F-Measure"
   ]
  },
  {
   "cell_type": "code",
   "execution_count": 11,
   "metadata": {},
   "outputs": [
    {
     "name": "stdout",
     "output_type": "stream",
     "text": [
      "\n",
      "Confusion Matrix\n",
      "[[ 97941  12197]\n",
      " [  9350 164955]]\n",
      "\n",
      "Weighted Accuracy: 0.9242484434491269\n",
      "Weighted precision: 0.924065321205097\n",
      "Weighted recall: 0.9242484434491269\n",
      "Weighted f-measure: 0.9240593158525556\n"
     ]
    }
   ],
   "source": [
    "print('\\nConfusion Matrix')\n",
    "predicted = model.predict_classes(x_test)\n",
    "confusion = confusion_matrix(y_true=old_y_test, y_pred=predicted)\n",
    "print(confusion)\n",
    "\n",
    "## Performance measure\n",
    "print('\\nWeighted Accuracy: '+ str(accuracy_score(y_true=old_y_test, y_pred=predicted)))\n",
    "print('Weighted precision: '+ str(precision_score(y_true=old_y_test, y_pred=predicted, average='weighted')))\n",
    "print('Weighted recall: '+ str(recall_score(y_true=old_y_test, y_pred=predicted, average='weighted')))\n",
    "print('Weighted f-measure: '+ str(f1_score(y_true=old_y_test, y_pred=predicted, average='weighted')))\n"
   ]
  },
  {
   "cell_type": "markdown",
   "metadata": {},
   "source": [
    "**Plot** the model training history for training and evaluation sets."
   ]
  },
  {
   "cell_type": "code",
   "execution_count": 12,
   "metadata": {},
   "outputs": [
    {
     "data": {
      "image/png": "[encoded data removed]",
      "text/plain": [
       "<Figure size 432x288 with 1 Axes>"
      ]
     },
     "metadata": {
      "needs_background": "light"
     },
     "output_type": "display_data"
    },
    {
     "data": {
      "image/png": "[encoded data removed]",
      "text/plain": [
       "<Figure size 432x288 with 1 Axes>"
      ]
     },
     "metadata": {
      "needs_background": "light"
     },
     "output_type": "display_data"
    }
   ],
   "source": [
    "acc = history.history['acc']\n",
    "val_acc = history.history['val_acc']\n",
    "loss = history.history['loss']\n",
    "val_loss = history.history['val_loss']\n",
    "\n",
    "epochs_range = range(len(acc))\n",
    "\n",
    "plt.plot(epochs_range, acc, 'bo', label='Training acc')\n",
    "plt.plot(epochs_range, val_acc, 'b', label='Validation acc')\n",
    "plt.title('Training and validation accuracy')\n",
    "plt.legend()\n",
    "\n",
    "plt.figure()\n",
    "\n",
    "plt.plot(epochs_range, loss, 'bo', label='Training loss')\n",
    "plt.plot(epochs_range, val_loss, 'b', label='Validation loss')\n",
    "plt.title('Training and validation loss')\n",
    "plt.legend()\n",
    "\n",
    "plt.show()"
   ]
  }
 ],
 "metadata": {
  "kernelspec": {
   "display_name": "Python 3",
   "language": "python",
   "name": "python3"
  },
  "language_info": {
   "codemirror_mode": {
    "name": "ipython",
    "version": 3
   },
   "file_extension": ".py",
   "mimetype": "text/x-python",
   "name": "python",
   "nbconvert_exporter": "python",
   "pygments_lexer": "ipython3",
   "version": "3.5.2"
  }
 },
 "nbformat": 4,
 "nbformat_minor": 2
}
