{
 "cells": [
  {
   "cell_type": "markdown",
   "metadata": {},
   "source": [
    "# Word2Seq Long Short Term Memory (LSTM)"
   ]
  },
  {
   "cell_type": "markdown",
   "metadata": {},
   "source": [
    "Importing all the required libraries along with some instance variables initialization.\n",
    "\n",
    "It is important to note that **INPUT_SIZE** plays a big role in the model convergence.  \n",
    "The value should be the average number of words per review.  \n",
    "This shall yield the most optimum model state for faster convergence across the network.\n",
    "\n",
    "Tested values for *INPUT_SIZE* :\n",
    " * 30 (3 mins per epoch) = 88.12%\n",
    " * 50 (5 mins per epoch) = 90.05%\n",
    " * 100 (11 mins per epoch ) = 92.23%\n",
    " * 700 (1 hour 40 mins per epoch for 12 hours) = 64.4%\n",
    "\n",
    "**EPOCHS** is set to `10` only to select the best model with the best hyper-parameters configuration for the fastest network convergence."
   ]
  },
  {
   "cell_type": "code",
   "execution_count": 1,
   "metadata": {},
   "outputs": [],
   "source": [
    "import pandas as pd\n",
    "import numpy as np\n",
    "import pickle\n",
    "import matplotlib.pyplot as plt\n",
    "from sklearn.model_selection import train_test_split\n",
    "from tensorflow.python.keras.models import Sequential, load_model\n",
    "from tensorflow.python.keras.layers import Dense, Embedding, Dropout, Flatten\n",
    "from tensorflow.python.keras.layers import LSTM, SimpleRNN\n",
    "from tensorflow.python.keras import optimizers\n",
    "from tensorflow.python.keras.preprocessing import text as keras_text, sequence as keras_seq\n",
    "from tensorflow.python.keras.utils import to_categorical\n",
    "from tensorflow.python.keras.callbacks import TensorBoard, ModelCheckpoint\n",
    "from sklearn.metrics import confusion_matrix,accuracy_score,recall_score,precision_score,f1_score\n",
    "from sklearn.utils import shuffle\n",
    "from tensorflow import set_random_seed\n",
    "import gc\n",
    "import os\n",
    "\n",
    "#myrand=np.random.randint(1, 99999 + 1)\n",
    "myrand=58584\n",
    "np.random.seed(myrand)\n",
    "set_random_seed(myrand)\n",
    "z=0\n",
    "\n",
    "EMBEDDING_SIZE=32\n",
    "WORDS_SIZE=8000\n",
    "INPUT_SIZE=100\n",
    "NUM_CLASSES=2\n",
    "EPOCHS=10"
   ]
  },
  {
   "cell_type": "markdown",
   "metadata": {},
   "source": [
    "Importing all the data from:\n",
    " * eRezeki\n",
    " * IMDB\n",
    " * Amazon\n",
    " * Yelp\n"
   ]
  },
  {
   "cell_type": "code",
   "execution_count": 2,
   "metadata": {},
   "outputs": [],
   "source": [
    "mydata = pd.read_csv('../../../../../Master (Sentiment Analysis)/Paper/Paper 3/Datasets/eRezeki/eRezeki_(text_class)_unclean.csv',header=0,encoding='utf-8')\n",
    "mydata = mydata.loc[mydata['sentiment'] != \"neutral\"]\n",
    "mydata['sentiment'] = mydata['sentiment'].map({'negative': 0, 'positive': 1})\n",
    "\n",
    "mydata1 = pd.read_csv('../../../../../Master (Sentiment Analysis)/Paper/Paper 3/Datasets/IMDB/all_random.csv',header=0,encoding='utf-8')\n",
    "mydata = mydata.append(mydata1)\n",
    "mydata = shuffle(mydata)\n",
    "\n",
    "mydata1 = pd.read_csv('../../../../../Master (Sentiment Analysis)/Paper/Paper 3/Datasets/Amazon(sports_outdoors)/Amazon_UCSD.csv',header=0,encoding='utf-8')\n",
    "mydata1['feedback'] = mydata1['feedback'].astype(str)\n",
    "mydata = mydata.append(mydata1)\n",
    "mydata = shuffle(mydata)\n",
    "\n",
    "mydata1 = pd.read_csv('../../../../../Master (Sentiment Analysis)/Paper/Paper 3/Datasets/Yelp(zhang_paper)/yelp_zhang.csv',header=0,encoding='utf-8')\n",
    "mydata1['feedback'] = mydata1['feedback'].astype(str)\n",
    "mydata = mydata.append(mydata1)\n",
    "\n",
    "del(mydata1)\n",
    "gc.collect()\n",
    "\n",
    "mydata = shuffle(mydata)\n",
    "mydata = shuffle(mydata)\n",
    "mydata = shuffle(mydata)"
   ]
  },
  {
   "cell_type": "markdown",
   "metadata": {},
   "source": [
    "Spllitting the data into training (70%) and testing (30%) sets."
   ]
  },
  {
   "cell_type": "code",
   "execution_count": 3,
   "metadata": {},
   "outputs": [],
   "source": [
    "x_train, x_test, y_train, y_test = train_test_split(mydata.iloc[:,0], mydata.iloc[:,1],\n",
    "                                                    test_size=0.3, \n",
    "                                                    random_state=myrand, \n",
    "                                                    shuffle=True)\n",
    "old_y_test = y_test"
   ]
  },
  {
   "cell_type": "markdown",
   "metadata": {},
   "source": [
    "Load the Word2Seq feature set as the tokneizer"
   ]
  },
  {
   "cell_type": "code",
   "execution_count": 4,
   "metadata": {},
   "outputs": [],
   "source": [
    "tokenizer = keras_text.Tokenizer(char_level=False)\n",
    "tokenizer.fit_on_texts(list(mydata['feedback']))\n",
    "tokenizer.num_words=WORDS_SIZE"
   ]
  },
  {
   "cell_type": "markdown",
   "metadata": {},
   "source": [
    "Create sequence file from the tokkenizer for training and testing sets."
   ]
  },
  {
   "cell_type": "code",
   "execution_count": 5,
   "metadata": {},
   "outputs": [],
   "source": [
    "## Tokkenizing train data and create matrix\n",
    "list_tokenized_train = tokenizer.texts_to_sequences(x_train)\n",
    "x_train = keras_seq.pad_sequences(list_tokenized_train, \n",
    "                                  maxlen=INPUT_SIZE,\n",
    "                                  padding='post')\n",
    "x_train = x_train.astype(np.int64)\n",
    "\n",
    "## Tokkenizing test data and create matrix\n",
    "list_tokenized_test = tokenizer.texts_to_sequences(x_test)\n",
    "x_test = keras_seq.pad_sequences(list_tokenized_test, \n",
    "                                 maxlen=INPUT_SIZE,\n",
    "                                 padding='post')\n",
    "x_test = x_test.astype(np.int64)"
   ]
  },
  {
   "cell_type": "markdown",
   "metadata": {},
   "source": [
    "Perform One Hot Encoding (OHE) to the labes of training and testing sets."
   ]
  },
  {
   "cell_type": "code",
   "execution_count": 6,
   "metadata": {},
   "outputs": [],
   "source": [
    "y_train = to_categorical(y_train, num_classes=NUM_CLASSES).astype(np.int64)\n",
    "y_test = to_categorical(y_test, num_classes=NUM_CLASSES).astype(np.int64)"
   ]
  },
  {
   "cell_type": "markdown",
   "metadata": {},
   "source": [
    "Define and build the **Word2Seq LSTM** model"
   ]
  },
  {
   "cell_type": "code",
   "execution_count": 7,
   "metadata": {},
   "outputs": [
    {
     "name": "stdout",
     "output_type": "stream",
     "text": [
      "Word2Seq RNN model built: \n",
      "_________________________________________________________________\n",
      "Layer (type)                 Output Shape              Param #   \n",
      "=================================================================\n",
      "embedding (Embedding)        (None, 100, 250)          2000000   \n",
      "_________________________________________________________________\n",
      "lstm (LSTM)                  (None, 250)               501000    \n",
      "_________________________________________________________________\n",
      "flatten (Flatten)            (None, 250)               0         \n",
      "_________________________________________________________________\n",
      "dense (Dense)                (None, 250)               62750     \n",
      "_________________________________________________________________\n",
      "dense_1 (Dense)              (None, 2)                 502       \n",
      "=================================================================\n",
      "Total params: 2,564,252\n",
      "Trainable params: 2,564,252\n",
      "Non-trainable params: 0\n",
      "_________________________________________________________________\n"
     ]
    }
   ],
   "source": [
    "model = Sequential(name='Word2Seq LSTM')\n",
    "\n",
    "model.add(Embedding(input_dim =WORDS_SIZE,\n",
    "                    output_dim=250,\n",
    "                    input_length=INPUT_SIZE\n",
    "                    ))\n",
    "model.add(LSTM(250))\n",
    "model.add(Flatten())\n",
    "model.add(Dense(250, activation='relu'))\n",
    "model.add(Dense(2, activation='softmax'))\n",
    "\n",
    "## Define multiple optional optimizers\n",
    "sgd = optimizers.SGD(lr=0.01, decay=1e-6, momentum=0.9, nesterov=True)\n",
    "adam = optimizers.Adam(lr=0.01, beta_1=0.9, beta_2=0.999, epsilon=1, decay=0.0, amsgrad=False)\n",
    "\n",
    "## Compile model with metrics\n",
    "model.compile(optimizer='adam', loss='categorical_crossentropy', metrics=['accuracy'])\n",
    "print(\"Word2Seq LSTM model built: \")\n",
    "model.summary()"
   ]
  },
  {
   "cell_type": "markdown",
   "metadata": {},
   "source": [
    "Create **TensorBoard callbacks** for:\n",
    " * Historical data\n",
    " * Training and evaluation gain/loss\n",
    " \n",
    "Also, create the **best-model callback** to save the **best** model every epoch."
   ]
  },
  {
   "cell_type": "code",
   "execution_count": 8,
   "metadata": {},
   "outputs": [],
   "source": [
    "## Create TensorBoard callbacks\n",
    "\n",
    "callbackdir= '/project/ten'\n",
    "\n",
    "tbCallback = TensorBoard(log_dir=callbackdir, \n",
    "                         histogram_freq=0, \n",
    "                         batch_size=128,\n",
    "                         write_graph=True, \n",
    "                         write_grads=True, \n",
    "                         write_images=True)\n",
    "\n",
    "tbCallback.set_model(model)\n",
    "\n",
    "mld = '/project/model/word2seq_lstm.hdf5_%s'%(z)\n",
    "\n",
    "## Create best model callback\n",
    "mcp = ModelCheckpoint(filepath=mld, monitor=\"val_acc\",\n",
    "                      save_best_only=True, mode='max', period=1, verbose=1)"
   ]
  },
  {
   "cell_type": "markdown",
   "metadata": {},
   "source": [
    "**Train** the model"
   ]
  },
  {
   "cell_type": "code",
   "execution_count": 9,
   "metadata": {},
   "outputs": [
    {
     "name": "stdout",
     "output_type": "stream",
     "text": [
      "Training the Word2Seq RNN model\n"
     ]
    },
    {
     "name": "stderr",
     "output_type": "stream",
     "text": [
      "/usr/local/lib/python3.5/dist-packages/tensorflow/python/ops/gradients_impl.py:108: UserWarning: Converting sparse IndexedSlices to a dense Tensor of unknown shape. This may consume a large amount of memory.\n",
      "  \"Converting sparse IndexedSlices to a dense Tensor of unknown shape. \"\n"
     ]
    },
    {
     "name": "stdout",
     "output_type": "stream",
     "text": [
      "Train on 663700 samples, validate on 284443 samples\n",
      "Epoch 1/10\n",
      " - 676s - loss: 0.2764 - acc: 0.8815 - val_loss: 0.2519 - val_acc: 0.9005\n",
      "\n",
      "Epoch 00001: val_acc improved from -inf to 0.90055, saving model to /project/model/word2seq_rnn.hdf5_0\n",
      "Epoch 2/10\n",
      " - 655s - loss: 0.2191 - acc: 0.9121 - val_loss: 0.2148 - val_acc: 0.9133\n",
      "\n",
      "Epoch 00002: val_acc improved from 0.90055 to 0.91326, saving model to /project/model/word2seq_rnn.hdf5_0\n",
      "Epoch 3/10\n",
      " - 637s - loss: 0.1965 - acc: 0.9217 - val_loss: 0.1978 - val_acc: 0.9215\n",
      "\n",
      "Epoch 00003: val_acc improved from 0.91326 to 0.92146, saving model to /project/model/word2seq_rnn.hdf5_0\n",
      "Epoch 4/10\n",
      " - 629s - loss: 0.1798 - acc: 0.9289 - val_loss: 0.1971 - val_acc: 0.9218\n",
      "\n",
      "Epoch 00004: val_acc improved from 0.92146 to 0.92179, saving model to /project/model/word2seq_rnn.hdf5_0\n",
      "Epoch 5/10\n",
      " - 628s - loss: 0.1682 - acc: 0.9341 - val_loss: 0.2002 - val_acc: 0.9216\n",
      "\n",
      "Epoch 00005: val_acc did not improve from 0.92179\n",
      "Epoch 6/10\n",
      " - 628s - loss: 0.1595 - acc: 0.9377 - val_loss: 0.1973 - val_acc: 0.9223\n",
      "\n",
      "Epoch 00006: val_acc improved from 0.92179 to 0.92235, saving model to /project/model/word2seq_rnn.hdf5_0\n",
      "Epoch 7/10\n",
      " - 628s - loss: 0.1510 - acc: 0.9414 - val_loss: 0.2063 - val_acc: 0.9223\n",
      "\n",
      "Epoch 00007: val_acc did not improve from 0.92235\n",
      "Epoch 8/10\n",
      " - 628s - loss: 0.1438 - acc: 0.9447 - val_loss: 0.2053 - val_acc: 0.9218\n",
      "\n",
      "Epoch 00008: val_acc did not improve from 0.92235\n",
      "Epoch 9/10\n",
      " - 628s - loss: 0.1365 - acc: 0.9476 - val_loss: 0.2110 - val_acc: 0.9192\n",
      "\n",
      "Epoch 00009: val_acc did not improve from 0.92235\n",
      "Epoch 10/10\n",
      " - 628s - loss: 0.1299 - acc: 0.9506 - val_loss: 0.2230 - val_acc: 0.9198\n",
      "\n",
      "Epoch 00010: val_acc did not improve from 0.92235\n"
     ]
    }
   ],
   "source": [
    "print('Training the Word2Seq LSTM model')\n",
    "history = model.fit(x = x_train,\n",
    "          y = y_train,\n",
    "          validation_data = (x_test, y_test),\n",
    "          epochs = EPOCHS,\n",
    "          batch_size = 128,\n",
    "          verbose =2,\n",
    "          callbacks=[mcp,tbCallback])"
   ]
  },
  {
   "cell_type": "markdown",
   "metadata": {},
   "source": [
    "**Predict** the testing set using the best model from the run."
   ]
  },
  {
   "cell_type": "code",
   "execution_count": 10,
   "metadata": {},
   "outputs": [
    {
     "name": "stdout",
     "output_type": "stream",
     "text": [
      "\n",
      "Predicting the model\n",
      "284443/284443 [==============================] - 79s 277us/step\n",
      "loss: 0.19731253036867977\n",
      "acc: 0.9223464806678177\n"
     ]
    }
   ],
   "source": [
    "print('\\nPredicting the model')\n",
    "model = load_model(mld)\n",
    "results = model.evaluate(x_test, y_test, batch_size=128)\n",
    "for num in range(0,2):\n",
    "    print(model.metrics_names[num]+': '+str(results[num]))"
   ]
  },
  {
   "cell_type": "markdown",
   "metadata": {},
   "source": [
    "**Evaluate** the performance of the model on the testing set using:\n",
    " * Confusion matrix\n",
    " * Accuracy\n",
    " * Precision\n",
    " * Recall\n",
    " * F-Measure"
   ]
  },
  {
   "cell_type": "code",
   "execution_count": 11,
   "metadata": {},
   "outputs": [
    {
     "name": "stdout",
     "output_type": "stream",
     "text": [
      "\n",
      "Confusion Matrix\n",
      "[[ 98846  11292]\n",
      " [ 10796 163509]]\n",
      "\n",
      "Weighted Accuracy: 0.9223464806657221\n",
      "Weighted precision: 0.922287425231727\n",
      "Weighted recall: 0.9223464806657221\n",
      "Weighted f-measure: 0.922314020316549\n"
     ]
    }
   ],
   "source": [
    "print('\\nConfusion Matrix')\n",
    "predicted = model.predict_classes(x_test)\n",
    "confusion = confusion_matrix(y_true=old_y_test, y_pred=predicted)\n",
    "print(confusion)\n",
    "\n",
    "## Performance measure\n",
    "print('\\nWeighted Accuracy: '+ str(accuracy_score(y_true=old_y_test, y_pred=predicted)))\n",
    "print('Weighted precision: '+ str(precision_score(y_true=old_y_test, y_pred=predicted, average='weighted')))\n",
    "print('Weighted recall: '+ str(recall_score(y_true=old_y_test, y_pred=predicted, average='weighted')))\n",
    "print('Weighted f-measure: '+ str(f1_score(y_true=old_y_test, y_pred=predicted, average='weighted')))\n"
   ]
  },
  {
   "cell_type": "markdown",
   "metadata": {},
   "source": [
    "**Plot** the model training history for training and evaluation sets."
   ]
  },
  {
   "cell_type": "code",
   "execution_count": 12,
   "metadata": {},
   "outputs": [
    {
     "data": {
      "image/png": "[encoded data removed]",
      "text/plain": [
       "<Figure size 432x288 with 1 Axes>"
      ]
     },
     "metadata": {
      "needs_background": "light"
     },
     "output_type": "display_data"
    },
    {
     "data": {
      "image/png": "[encoded data removed]",
      "text/plain": [
       "<Figure size 432x288 with 1 Axes>"
      ]
     },
     "metadata": {
      "needs_background": "light"
     },
     "output_type": "display_data"
    }
   ],
   "source": [
    "acc = history.history['acc']\n",
    "val_acc = history.history['val_acc']\n",
    "loss = history.history['loss']\n",
    "val_loss = history.history['val_loss']\n",
    "\n",
    "epochs_range = range(len(acc))\n",
    "\n",
    "plt.plot(epochs_range, acc, 'bo', label='Training acc')\n",
    "plt.plot(epochs_range, val_acc, 'b', label='Validation acc')\n",
    "plt.title('Training and validation accuracy')\n",
    "plt.legend()\n",
    "\n",
    "plt.figure()\n",
    "\n",
    "plt.plot(epochs_range, loss, 'bo', label='Training loss')\n",
    "plt.plot(epochs_range, val_loss, 'b', label='Validation loss')\n",
    "plt.title('Training and validation loss')\n",
    "plt.legend()\n",
    "\n",
    "plt.show()"
   ]
  }
 ],
 "metadata": {
  "kernelspec": {
   "display_name": "Python 3",
   "language": "python",
   "name": "python3"
  },
  "language_info": {
   "codemirror_mode": {
    "name": "ipython",
    "version": 3
   },
   "file_extension": ".py",
   "mimetype": "text/x-python",
   "name": "python",
   "nbconvert_exporter": "python",
   "pygments_lexer": "ipython3",
   "version": "3.5.2"
  }
 },
 "nbformat": 4,
 "nbformat_minor": 2
}
