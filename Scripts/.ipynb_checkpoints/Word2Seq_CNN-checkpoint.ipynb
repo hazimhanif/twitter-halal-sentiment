{
 "cells": [
  {
   "cell_type": "markdown",
   "metadata": {},
   "source": [
    "# Word2Seq Convolutional Neural Network"
   ]
  },
  {
   "cell_type": "markdown",
   "metadata": {},
   "source": [
    "Importing all the required libraries along with some instance variables initialization.\n",
    "\n",
    "It is important to note that **INPUT_SIZE** plays a big role in the model convergence.  \n",
    "The value should be the average number of words per review.  \n",
    "This shall yield the most optimum model state for faster convergence across the network.\n",
    "\n",
    "Tested values for *INPUT_SIZE* :\n",
    " * 700 (11 mins per epoch ) = 93.24%\n",
    " \n",
    "CNN able to handle the cushion values of input sequence not like RNN.  \n",
    "RNN require more to specific number of INPUT_SIZE as compared to CNN.  \n",
    "This shows the robustiness of CNN when dealing with variable length senteneces.  \n",
    "\n",
    "**EPOCHS** is set to `10` only to select the best model with the best hyper-parameters configuration for the fastest network convergence."
   ]
  },
  {
   "cell_type": "code",
   "execution_count": 1,
   "metadata": {},
   "outputs": [
    {
     "name": "stderr",
     "output_type": "stream",
     "text": [
      "Using TensorFlow backend.\n"
     ]
    }
   ],
   "source": [
    "import pandas as pd\n",
    "import numpy as np\n",
    "import pickle\n",
    "import matplotlib.pyplot as plt\n",
    "from sklearn.model_selection import train_test_split\n",
    "import tensorflow as tf\n",
    "from keras.backend.tensorflow_backend import set_session\n",
    "from tensorflow.python.keras.models import Sequential, load_model\n",
    "from tensorflow.python.keras.layers import Dense, Embedding, Dropout, Flatten\n",
    "from tensorflow.python.keras.layers import Conv1D, MaxPool1D\n",
    "from tensorflow.python.keras import optimizers\n",
    "from tensorflow.python.keras.preprocessing import text as keras_text, sequence as keras_seq\n",
    "from tensorflow.python.keras.utils import to_categorical\n",
    "from tensorflow.python.keras.callbacks import TensorBoard, ModelCheckpoint\n",
    "from sklearn.metrics import confusion_matrix,accuracy_score,recall_score,precision_score,f1_score\n",
    "from sklearn.utils import shuffle\n",
    "from tensorflow import set_random_seed\n",
    "import gc\n",
    "import os\n",
    "\n",
    "#myrand=np.random.randint(1, 99999 + 1)\n",
    "myrand=58584\n",
    "np.random.seed(myrand)\n",
    "set_random_seed(myrand)\n",
    "z=0\n",
    "\n",
    "EMBEDDING_SIZE=32\n",
    "WORDS_SIZE=8000\n",
    "INPUT_SIZE=700\n",
    "NUM_CLASSES=2\n",
    "EPOCHS=10\n",
    "\n",
    "# To allow dynamic GPU memory allowcation for model training\n",
    "config = tf.ConfigProto()\n",
    "config.gpu_options.allow_growth = True  \n",
    "config.log_device_placement = True\n",
    "\n",
    "sess = tf.Session(config=config)\n",
    "set_session(sess)"
   ]
  },
  {
   "cell_type": "markdown",
   "metadata": {},
   "source": [
    "Importing all the data from:\n",
    " * eRezeki\n",
    " * IMDB\n",
    " * Amazon\n",
    " * Yelp\n"
   ]
  },
  {
   "cell_type": "code",
   "execution_count": 2,
   "metadata": {},
   "outputs": [],
   "source": [
    "mydata = pd.read_csv('../../../../../Master (Sentiment Analysis)/Paper/Paper 3/Datasets/eRezeki/eRezeki_(text_class)_unclean.csv',header=0,encoding='utf-8')\n",
    "mydata = mydata.loc[mydata['sentiment'] != \"neutral\"]\n",
    "mydata['sentiment'] = mydata['sentiment'].map({'negative': 0, 'positive': 1})\n",
    "\n",
    "mydata1 = pd.read_csv('../../../../../Master (Sentiment Analysis)/Paper/Paper 3/Datasets/IMDB/all_random.csv',header=0,encoding='utf-8')\n",
    "mydata = mydata.append(mydata1)\n",
    "mydata = shuffle(mydata)\n",
    "\n",
    "mydata1 = pd.read_csv('../../../../../Master (Sentiment Analysis)/Paper/Paper 3/Datasets/Amazon(sports_outdoors)/Amazon_UCSD.csv',header=0,encoding='utf-8')\n",
    "mydata1['feedback'] = mydata1['feedback'].astype(str)\n",
    "mydata = mydata.append(mydata1)\n",
    "mydata = shuffle(mydata)\n",
    "\n",
    "mydata1 = pd.read_csv('../../../../../Master (Sentiment Analysis)/Paper/Paper 3/Datasets/Yelp(zhang_paper)/yelp_zhang.csv',header=0,encoding='utf-8')\n",
    "mydata1['feedback'] = mydata1['feedback'].astype(str)\n",
    "mydata = mydata.append(mydata1)\n",
    "\n",
    "del(mydata1)\n",
    "gc.collect()\n",
    "\n",
    "mydata = shuffle(mydata)\n",
    "mydata = shuffle(mydata)\n",
    "mydata = shuffle(mydata)"
   ]
  },
  {
   "cell_type": "markdown",
   "metadata": {},
   "source": [
    "Spllitting the data into training (70%) and testing (30%) sets."
   ]
  },
  {
   "cell_type": "code",
   "execution_count": 3,
   "metadata": {},
   "outputs": [],
   "source": [
    "x_train, x_test, y_train, y_test = train_test_split(mydata.iloc[:,0], mydata.iloc[:,1],\n",
    "                                                    test_size=0.3, \n",
    "                                                    random_state=myrand, \n",
    "                                                    shuffle=True)\n",
    "old_y_test = y_test"
   ]
  },
  {
   "cell_type": "markdown",
   "metadata": {},
   "source": [
    "Load the Word2Seq feature set as the tokneizer"
   ]
  },
  {
   "cell_type": "code",
   "execution_count": 4,
   "metadata": {},
   "outputs": [],
   "source": [
    "tokenizer = keras_text.Tokenizer(char_level=False)\n",
    "tokenizer.fit_on_texts(list(mydata['feedback']))\n",
    "tokenizer.num_words=WORDS_SIZE"
   ]
  },
  {
   "cell_type": "markdown",
   "metadata": {},
   "source": [
    "Create sequence file from the tokkenizer for training and testing sets."
   ]
  },
  {
   "cell_type": "code",
   "execution_count": 5,
   "metadata": {},
   "outputs": [],
   "source": [
    "## Tokkenizing train data and create matrix\n",
    "list_tokenized_train = tokenizer.texts_to_sequences(x_train)\n",
    "x_train = keras_seq.pad_sequences(list_tokenized_train, \n",
    "                                  maxlen=INPUT_SIZE,\n",
    "                                  padding='post')\n",
    "x_train = x_train.astype(np.int64)\n",
    "\n",
    "## Tokkenizing test data and create matrix\n",
    "list_tokenized_test = tokenizer.texts_to_sequences(x_test)\n",
    "x_test = keras_seq.pad_sequences(list_tokenized_test, \n",
    "                                 maxlen=INPUT_SIZE,\n",
    "                                 padding='post')\n",
    "x_test = x_test.astype(np.int64)"
   ]
  },
  {
   "cell_type": "markdown",
   "metadata": {},
   "source": [
    "Perform One Hot Encoding (OHE) to the labes of training and testing sets."
   ]
  },
  {
   "cell_type": "code",
   "execution_count": 6,
   "metadata": {},
   "outputs": [],
   "source": [
    "y_train = to_categorical(y_train, num_classes=NUM_CLASSES).astype(np.int64)\n",
    "y_test = to_categorical(y_test, num_classes=NUM_CLASSES).astype(np.int64)"
   ]
  },
  {
   "cell_type": "markdown",
   "metadata": {},
   "source": [
    "Define and build the **Word2Seq CNN** model"
   ]
  },
  {
   "cell_type": "code",
   "execution_count": 7,
   "metadata": {},
   "outputs": [
    {
     "name": "stdout",
     "output_type": "stream",
     "text": [
      "Word2Seq CNN model built: \n",
      "_________________________________________________________________\n",
      "Layer (type)                 Output Shape              Param #   \n",
      "=================================================================\n",
      "embedding (Embedding)        (None, 700, 250)          2000000   \n",
      "_________________________________________________________________\n",
      "conv1d (Conv1D)              (None, 700, 250)          187750    \n",
      "_________________________________________________________________\n",
      "max_pooling1d (MaxPooling1D) (None, 14, 250)           0         \n",
      "_________________________________________________________________\n",
      "conv1d_1 (Conv1D)            (None, 14, 250)           125250    \n",
      "_________________________________________________________________\n",
      "max_pooling1d_1 (MaxPooling1 (None, 1, 250)            0         \n",
      "_________________________________________________________________\n",
      "flatten (Flatten)            (None, 250)               0         \n",
      "_________________________________________________________________\n",
      "dense (Dense)                (None, 250)               62750     \n",
      "_________________________________________________________________\n",
      "dense_1 (Dense)              (None, 2)                 502       \n",
      "=================================================================\n",
      "Total params: 2,376,252\n",
      "Trainable params: 2,376,252\n",
      "Non-trainable params: 0\n",
      "_________________________________________________________________\n"
     ]
    }
   ],
   "source": [
    "model = Sequential(name='Word2Seq CNN')\n",
    "\n",
    "model.add(Embedding(input_dim =WORDS_SIZE,\n",
    "                    output_dim=250,\n",
    "                    input_length=INPUT_SIZE\n",
    "                    ))\n",
    "model.add(Conv1D(filters=250, kernel_size=3, padding='same', activation='relu'))\n",
    "model.add(MaxPool1D(pool_size=50))\n",
    "model.add(Conv1D(filters=250, kernel_size=2, padding='same', activation='relu'))\n",
    "model.add(MaxPool1D(pool_size=10))\n",
    "model.add(Flatten())\n",
    "model.add(Dense(250, activation='relu'))\n",
    "model.add(Dense(2, activation='softmax'))\n",
    "\n",
    "## Define multiple optional optimizers\n",
    "sgd = optimizers.SGD(lr=0.01, decay=1e-6, momentum=0.9, nesterov=True)\n",
    "adam = optimizers.Adam(lr=0.01, beta_1=0.9, beta_2=0.999, epsilon=1, decay=0.0, amsgrad=False)\n",
    "\n",
    "## Compile model with metrics\n",
    "model.compile(optimizer='adam', loss='categorical_crossentropy', metrics=['accuracy'])\n",
    "print(\"Word2Seq CNN model built: \")\n",
    "model.summary()"
   ]
  },
  {
   "cell_type": "markdown",
   "metadata": {},
   "source": [
    "Create **TensorBoard callbacks** for:\n",
    " * Historical data\n",
    " * Training and evaluation gain/loss\n",
    " \n",
    "Also, create the **best-model callback** to save the **best** model every epoch."
   ]
  },
  {
   "cell_type": "code",
   "execution_count": 8,
   "metadata": {},
   "outputs": [],
   "source": [
    "## Create TensorBoard callbacks\n",
    "\n",
    "callbackdir= '/project/ten'\n",
    "\n",
    "tbCallback = TensorBoard(log_dir=callbackdir, \n",
    "                         histogram_freq=0, \n",
    "                         batch_size=128,\n",
    "                         write_graph=True, \n",
    "                         write_grads=True, \n",
    "                         write_images=True)\n",
    "\n",
    "tbCallback.set_model(model)\n",
    "\n",
    "mld = '/project/model/word2seq_cnn.hdf5_%s'%(z)\n",
    "\n",
    "## Create best model callback\n",
    "mcp = ModelCheckpoint(filepath=mld, monitor=\"val_acc\",\n",
    "                      save_best_only=True, mode='max', period=1, verbose=1)"
   ]
  },
  {
   "cell_type": "markdown",
   "metadata": {},
   "source": [
    "**Train** the model"
   ]
  },
  {
   "cell_type": "code",
   "execution_count": 9,
   "metadata": {},
   "outputs": [
    {
     "name": "stdout",
     "output_type": "stream",
     "text": [
      "Training the Word2Seq CNN model\n"
     ]
    },
    {
     "name": "stderr",
     "output_type": "stream",
     "text": [
      "/usr/local/lib/python3.5/dist-packages/tensorflow/python/ops/gradients_impl.py:108: UserWarning: Converting sparse IndexedSlices to a dense Tensor of unknown shape. This may consume a large amount of memory.\n",
      "  \"Converting sparse IndexedSlices to a dense Tensor of unknown shape. \"\n"
     ]
    },
    {
     "name": "stdout",
     "output_type": "stream",
     "text": [
      "Train on 663700 samples, validate on 284443 samples\n",
      "Epoch 1/10\n",
      " - 140s - loss: 0.2419 - acc: 0.8972 - val_loss: 0.1907 - val_acc: 0.9238\n",
      "\n",
      "Epoch 00001: val_acc improved from -inf to 0.92377, saving model to /project/model/word2seq_cnn.hdf5_0\n",
      "Epoch 2/10\n",
      " - 141s - loss: 0.1756 - acc: 0.9309 - val_loss: 0.2423 - val_acc: 0.9058\n",
      "\n",
      "Epoch 00002: val_acc did not improve from 0.92377\n",
      "Epoch 3/10\n",
      " - 141s - loss: 0.1556 - acc: 0.9394 - val_loss: 0.1943 - val_acc: 0.9241\n",
      "\n",
      "Epoch 00003: val_acc improved from 0.92377 to 0.92411, saving model to /project/model/word2seq_cnn.hdf5_0\n",
      "Epoch 4/10\n",
      " - 142s - loss: 0.1389 - acc: 0.9465 - val_loss: 0.1713 - val_acc: 0.9324\n",
      "\n",
      "Epoch 00004: val_acc improved from 0.92411 to 0.93240, saving model to /project/model/word2seq_cnn.hdf5_0\n",
      "Epoch 5/10\n",
      " - 144s - loss: 0.1240 - acc: 0.9529 - val_loss: 0.1837 - val_acc: 0.9314\n",
      "\n",
      "Epoch 00005: val_acc did not improve from 0.93240\n",
      "Epoch 6/10\n",
      " - 144s - loss: 0.1101 - acc: 0.9587 - val_loss: 0.1865 - val_acc: 0.9317\n",
      "\n",
      "Epoch 00006: val_acc did not improve from 0.93240\n",
      "Epoch 7/10\n",
      " - 141s - loss: 0.0977 - acc: 0.9637 - val_loss: 0.2132 - val_acc: 0.9234\n",
      "\n",
      "Epoch 00007: val_acc did not improve from 0.93240\n",
      "Epoch 8/10\n",
      " - 142s - loss: 0.0863 - acc: 0.9683 - val_loss: 0.2201 - val_acc: 0.9275\n",
      "\n",
      "Epoch 00008: val_acc did not improve from 0.93240\n",
      "Epoch 9/10\n",
      " - 142s - loss: 0.0760 - acc: 0.9725 - val_loss: 0.2379 - val_acc: 0.9235\n",
      "\n",
      "Epoch 00009: val_acc did not improve from 0.93240\n",
      "Epoch 10/10\n",
      " - 142s - loss: 0.0679 - acc: 0.9754 - val_loss: 0.2480 - val_acc: 0.9265\n",
      "\n",
      "Epoch 00010: val_acc did not improve from 0.93240\n"
     ]
    }
   ],
   "source": [
    "print('Training the Word2Seq CNN model')\n",
    "history = model.fit(x = x_train,\n",
    "          y = y_train,\n",
    "          validation_data = (x_test, y_test),\n",
    "          epochs = EPOCHS,\n",
    "          batch_size = 128,\n",
    "          verbose =2,\n",
    "          callbacks=[mcp,tbCallback])"
   ]
  },
  {
   "cell_type": "markdown",
   "metadata": {},
   "source": [
    "**Predict** the testing set using the best model from the run."
   ]
  },
  {
   "cell_type": "code",
   "execution_count": 10,
   "metadata": {},
   "outputs": [
    {
     "name": "stdout",
     "output_type": "stream",
     "text": [
      "\n",
      "Predicting the model\n",
      "284443/284443 [==============================] - 19s 66us/step\n",
      "loss: 0.1712579862162516\n",
      "acc: 0.9323977035806217\n"
     ]
    }
   ],
   "source": [
    "print('\\nPredicting the model')\n",
    "model = load_model(mld)\n",
    "results = model.evaluate(x_test, y_test, batch_size=128)\n",
    "for num in range(0,2):\n",
    "    print(model.metrics_names[num]+': '+str(results[num]))"
   ]
  },
  {
   "cell_type": "markdown",
   "metadata": {},
   "source": [
    "**Evaluate** the performance of the model on the testing set using:\n",
    " * Confusion matrix\n",
    " * Accuracy\n",
    " * Precision\n",
    " * Recall\n",
    " * F-Measure"
   ]
  },
  {
   "cell_type": "code",
   "execution_count": 11,
   "metadata": {},
   "outputs": [
    {
     "name": "stdout",
     "output_type": "stream",
     "text": [
      "\n",
      "Confusion Matrix\n",
      "[[ 99839  10299]\n",
      " [  8930 165375]]\n",
      "\n",
      "Weighted Accuracy: 0.9323977035820885\n",
      "Weighted precision: 0.9322847205819152\n",
      "Weighted recall: 0.9323977035820885\n",
      "Weighted f-measure: 0.9323185367635137\n"
     ]
    }
   ],
   "source": [
    "print('\\nConfusion Matrix')\n",
    "predicted = model.predict_classes(x_test)\n",
    "confusion = confusion_matrix(y_true=old_y_test, y_pred=predicted)\n",
    "print(confusion)\n",
    "\n",
    "## Performance measure\n",
    "print('\\nWeighted Accuracy: '+ str(accuracy_score(y_true=old_y_test, y_pred=predicted)))\n",
    "print('Weighted precision: '+ str(precision_score(y_true=old_y_test, y_pred=predicted, average='weighted')))\n",
    "print('Weighted recall: '+ str(recall_score(y_true=old_y_test, y_pred=predicted, average='weighted')))\n",
    "print('Weighted f-measure: '+ str(f1_score(y_true=old_y_test, y_pred=predicted, average='weighted')))\n"
   ]
  },
  {
   "cell_type": "markdown",
   "metadata": {},
   "source": [
    "**Plot** the model training history for training and evaluation sets."
   ]
  },
  {
   "cell_type": "code",
   "execution_count": 12,
   "metadata": {},
   "outputs": [
    {
     "data": {
      "image/png": "[encoded data removed]",
      "text/plain": [
       "<Figure size 432x288 with 1 Axes>"
      ]
     },
     "metadata": {
      "needs_background": "light"
     },
     "output_type": "display_data"
    },
    {
     "data": {
      "image/png": "[encoded data removed]",
      "text/plain": [
       "<Figure size 432x288 with 1 Axes>"
      ]
     },
     "metadata": {
      "needs_background": "light"
     },
     "output_type": "display_data"
    }
   ],
   "source": [
    "acc = history.history['acc']\n",
    "val_acc = history.history['val_acc']\n",
    "loss = history.history['loss']\n",
    "val_loss = history.history['val_loss']\n",
    "\n",
    "epochs_range = range(len(acc))\n",
    "\n",
    "plt.plot(epochs_range, acc, 'bo', label='Training acc')\n",
    "plt.plot(epochs_range, val_acc, 'b', label='Validation acc')\n",
    "plt.title('Training and validation accuracy')\n",
    "plt.legend()\n",
    "\n",
    "plt.figure()\n",
    "\n",
    "plt.plot(epochs_range, loss, 'bo', label='Training loss')\n",
    "plt.plot(epochs_range, val_loss, 'b', label='Validation loss')\n",
    "plt.title('Training and validation loss')\n",
    "plt.legend()\n",
    "\n",
    "plt.show()"
   ]
  }
 ],
 "metadata": {
  "kernelspec": {
   "display_name": "Python 3",
   "language": "python",
   "name": "python3"
  },
  "language_info": {
   "codemirror_mode": {
    "name": "ipython",
    "version": 3
   },
   "file_extension": ".py",
   "mimetype": "text/x-python",
   "name": "python",
   "nbconvert_exporter": "python",
   "pygments_lexer": "ipython3",
   "version": "3.5.2"
  }
 },
 "nbformat": 4,
 "nbformat_minor": 2
}
